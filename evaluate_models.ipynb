{
 "cells": [
  {
   "cell_type": "markdown",
   "id": "becb2c7d-cd36-40a1-9d83-3a285b5b55cf",
   "metadata": {},
   "source": [
    "# Model evaluation\n",
    "\n",
    "In this notebook we evaluate all trained models. For each of them we compute the modified MSE on test set. Additionally we compute the intersection over the union for each of the three filters (glasses, beard, hat) on test set."
   ]
  },
  {
   "cell_type": "code",
   "execution_count": 1,
   "id": "71cbc164-bf36-4549-aca1-e800601a00cd",
   "metadata": {},
   "outputs": [],
   "source": [
    "from Models.mobilenet import MobileNetTuned\n",
    "from Models.mobilenet_v2 import MobileNetV2Tuned\n",
    "from Models.resnet_50 import ResNetTuned\n",
    "from Loss.losses import mse_visible_lists\n",
    "from Filters.glasses import GlassesFilter\n",
    "from Filters.hat import HatFilter\n",
    "from Filters.beard import BeardFilter\n",
    "from Data.data_generator import DataGenerator\n",
    "\n",
    "import numpy as np\n",
    "from tqdm.auto import trange\n",
    "import matplotlib.pyplot as plt"
   ]
  },
  {
   "cell_type": "markdown",
   "id": "58d796c1-e7e9-4439-bb4b-59d3e02abc67",
   "metadata": {},
   "source": [
    "## Load data and filters\n",
    "\n",
    "We again use a custom data generator to go through the test set. Here we however use the batch size of 1 and then imeediately calculate all metrics for each input/output pair and stack those metrices together."
   ]
  },
  {
   "cell_type": "code",
   "execution_count": 2,
   "id": "25cde732-0b38-4033-94ba-eb20534233a4",
   "metadata": {},
   "outputs": [],
   "source": [
    "test_generator = DataGenerator(data_path=\"Data/test\", batch_size=1, shuffle=False)\n",
    "glasses_filter = GlassesFilter()\n",
    "hat_filter = HatFilter()\n",
    "beard_filter = BeardFilter()"
   ]
  },
  {
   "cell_type": "markdown",
   "id": "101f96c4-0ebb-4ce3-a024-a3ab2660475e",
   "metadata": {},
   "source": [
    "## Helper functions\n",
    "\n",
    "These functions are used to go through the test set and compute the metrices"
   ]
  },
  {
   "cell_type": "code",
   "execution_count": 3,
   "id": "1d4d08ec-9f4d-4ed8-9d38-f4882d1c60b8",
   "metadata": {},
   "outputs": [],
   "source": [
    "def bootstrap_ci(x, n_samples=1000, seed=7):\n",
    "    \"\"\"\n",
    "    Function thatm computes the 95% confidence interval for mean value of sequence x\n",
    "    \"\"\"\n",
    "    np.random.seed(seed)\n",
    "    means = []\n",
    "    n = len(x)\n",
    "    \n",
    "    for _ in range(n_samples):\n",
    "        sample = np.random.choice(x, size=n, replace=True)\n",
    "        means.append(np.mean(sample))\n",
    "        \n",
    "    means.sort()\n",
    "    lower_quantile = int(0.025 * n_samples)\n",
    "    upper_quantile = int(0.975 * n_samples)\n",
    "    \n",
    "    return means[lower_quantile-1], means[upper_quantile-1]\n",
    "\n",
    "def evaluate_model(model):\n",
    "    mse = []\n",
    "    glasses_iou = []\n",
    "    hat_iou = []\n",
    "    beard_iou = []\n",
    "    \n",
    "    for i in trange(len(test_generator)):\n",
    "        # Obtain image, true keypoints and predicted keypoints\n",
    "        img, y_true = test_generator[i]\n",
    "        y_true = y_true[0]\n",
    "        preds = model.predict(img)\n",
    "        y_pred = [int(np.round(point)) for point in preds[0]]\n",
    "        \n",
    "        # Compute the metrics\n",
    "        img = img[0]\n",
    "        mse.append(mse_visible_lists(y_true, y_pred))\n",
    "        glasses_iou.append(glasses_filter.compute_iou(img, y_true, y_pred))\n",
    "        hat_iou.append(hat_filter.compute_iou(img, y_true, y_pred))\n",
    "        beard_iou.append(beard_filter.compute_iou(img, y_true, y_pred))\n",
    "        \n",
    "    # Get the average and CI for each metric\n",
    "    #print(mse)\n",
    "    mse_avg = np.mean(mse)\n",
    "    mse_ci = bootstrap_ci(mse)\n",
    "    #print(glasses_iou)\n",
    "    g_iou_avg = np.mean(glasses_iou)\n",
    "    g_iou_ci = bootstrap_ci(glasses_iou)\n",
    "    #print(hat_iou)\n",
    "    h_iou_avg = np.mean(hat_iou)\n",
    "    h_iou_ci = bootstrap_ci(hat_iou)\n",
    "    #print(beard_iou)\n",
    "    b_iou_avg = np.mean(beard_iou)\n",
    "    b_iou_ci = bootstrap_ci(beard_iou)\n",
    "\n",
    "    # Report the results\n",
    "    print(f\"MSE on test set: {mse_avg}, 95% CI: [{mse_ci[0]}, {mse_ci[1]}]\")\n",
    "    print(f\"Average IoU for glasses filter on test set: {g_iou_avg}, 95% CI: [{g_iou_ci[0]}, {g_iou_ci[1]}]\")\n",
    "    print(f\"Average IoU for hat filter on test set: {h_iou_avg}, 95% CI: [{h_iou_ci[0]}, {h_iou_ci[1]}]\")\n",
    "    print(f\"Average IoU for beard filter on test set: {b_iou_avg}, 95% CI: [{b_iou_ci[0]}, {b_iou_ci[1]}]\")"
   ]
  },
  {
   "cell_type": "markdown",
   "id": "416385c8-6a07-4554-9c69-5cb1197d2de7",
   "metadata": {},
   "source": [
    "## MobileNet\n",
    "\n",
    "### Trained using regular MSE"
   ]
  },
  {
   "cell_type": "code",
   "execution_count": 4,
   "id": "cb63a1bf-08a7-4220-b86b-eec06d5abf3b",
   "metadata": {},
   "outputs": [
    {
     "name": "stdout",
     "output_type": "stream",
     "text": [
      "Model: \"model\"\n",
      "_________________________________________________________________\n",
      " Layer (type)                Output Shape              Param #   \n",
      "=================================================================\n",
      " input_2 (InputLayer)        [(None, 224, 224, 3)]     0         \n",
      "                                                                 \n",
      " tf.cast (TFOpLambda)        (None, 224, 224, 3)       0         \n",
      "                                                                 \n",
      " tf.math.truediv (TFOpLambda  (None, 224, 224, 3)      0         \n",
      " )                                                               \n",
      "                                                                 \n",
      " tf.math.subtract (TFOpLambd  (None, 224, 224, 3)      0         \n",
      " a)                                                              \n",
      "                                                                 \n",
      " mobilenet_1.00_224 (Functio  (None, 1024)             3228864   \n",
      " nal)                                                            \n",
      "                                                                 \n",
      " dense (Dense)               (None, 18)                18450     \n",
      "                                                                 \n",
      "=================================================================\n",
      "Total params: 3,247,314\n",
      "Trainable params: 3,225,426\n",
      "Non-trainable params: 21,888\n",
      "_________________________________________________________________\n",
      "None\n",
      "Model: \"model\"\n",
      "_________________________________________________________________\n",
      " Layer (type)                Output Shape              Param #   \n",
      "=================================================================\n",
      " input_2 (InputLayer)        [(None, 224, 224, 3)]     0         \n",
      "                                                                 \n",
      " tf.cast (TFOpLambda)        (None, 224, 224, 3)       0         \n",
      "                                                                 \n",
      " tf.math.truediv (TFOpLambda  (None, 224, 224, 3)      0         \n",
      " )                                                               \n",
      "                                                                 \n",
      " tf.math.subtract (TFOpLambd  (None, 224, 224, 3)      0         \n",
      " a)                                                              \n",
      "                                                                 \n",
      " mobilenet_1.00_224 (Functio  (None, 1024)             3228864   \n",
      " nal)                                                            \n",
      "                                                                 \n",
      " dense (Dense)               (None, 18)                18450     \n",
      "                                                                 \n",
      "=================================================================\n",
      "Total params: 3,247,314\n",
      "Trainable params: 3,225,426\n",
      "Non-trainable params: 21,888\n",
      "_________________________________________________________________\n",
      "None\n"
     ]
    }
   ],
   "source": [
    "model = MobileNetTuned()\n",
    "model.load_model(\"mobilenet_mse.h5\")"
   ]
  },
  {
   "cell_type": "code",
   "execution_count": 5,
   "id": "6a254dbd-39c1-4637-86ee-be8bd1fe8a82",
   "metadata": {},
   "outputs": [
    {
     "data": {
      "application/vnd.jupyter.widget-view+json": {
       "model_id": "5042f088a9da4681b1cf17d3cd414062",
       "version_major": 2,
       "version_minor": 0
      },
      "text/plain": [
       "  0%|          | 0/998 [00:00<?, ?it/s]"
      ]
     },
     "metadata": {},
     "output_type": "display_data"
    },
    {
     "name": "stderr",
     "output_type": "stream",
     "text": [
      "D:\\faks\\Deep learning\\Project\\dl_project\\Filters\\glasses.py:38: UserWarning: Right eye is located left to the left eye. Placing of the filter unsuccessful.\n",
      "  warnings.warn(\"Right eye is located left to the left eye. Placing of the filter unsuccessful.\")\n",
      "D:\\faks\\Deep learning\\Project\\dl_project\\Filters\\hat.py:40: UserWarning: Right ear is located left of the left ear. Placing of the filter unsuccessful.\n",
      "  warnings.warn(\"Right ear is located left of the left ear. Placing of the filter unsuccessful.\")\n",
      "D:\\faks\\Deep learning\\Project\\dl_project\\Filters\\beard.py:41: UserWarning: Right ear is located left to the left ear. PLacing of the filter unsuccessful.\n",
      "  warnings.warn(\"Right ear is located left to the left ear. PLacing of the filter unsuccessful.\")\n"
     ]
    },
    {
     "name": "stdout",
     "output_type": "stream",
     "text": [
      "MSE on test set: 44.63298819861946, 95% CI: [31.884936539746157, 60.57659763972389]\n",
      "Average IoU for glasses filter on test set: 0.1676986552442015, 95% CI: [0.1584109929506459, 0.1769321939303506]\n",
      "Average IoU for hat filter on test set: 0.7109316550111402, 95% CI: [0.6981115330829488, 0.7247179350739077]\n",
      "Average IoU for beard filter on test set: 0.7186824116930834, 95% CI: [0.7081407018116884, 0.7303637279997734]\n"
     ]
    }
   ],
   "source": [
    "evaluate_model(model)"
   ]
  },
  {
   "cell_type": "markdown",
   "id": "c4b2dce6-1011-45a7-994a-bf8bdfa14487",
   "metadata": {},
   "source": [
    "### With convolution instead of pooling"
   ]
  },
  {
   "cell_type": "code",
   "execution_count": 6,
   "id": "f861bd8b-9f1b-4174-b706-e44f73905c90",
   "metadata": {},
   "outputs": [
    {
     "name": "stdout",
     "output_type": "stream",
     "text": [
      "Model: \"model_1\"\n",
      "_________________________________________________________________\n",
      " Layer (type)                Output Shape              Param #   \n",
      "=================================================================\n",
      " input_4 (InputLayer)        [(None, 224, 224, 3)]     0         \n",
      "                                                                 \n",
      " tf.cast_1 (TFOpLambda)      (None, 224, 224, 3)       0         \n",
      "                                                                 \n",
      " tf.math.truediv_1 (TFOpLamb  (None, 224, 224, 3)      0         \n",
      " da)                                                             \n",
      "                                                                 \n",
      " tf.math.subtract_1 (TFOpLam  (None, 224, 224, 3)      0         \n",
      " bda)                                                            \n",
      "                                                                 \n",
      " mobilenet_1.00_224 (Functio  (None, 7, 7, 1024)       3228864   \n",
      " nal)                                                            \n",
      "                                                                 \n",
      " conv2d (Conv2D)             (None, 7, 7, 1)           1025      \n",
      "                                                                 \n",
      " flatten (Flatten)           (None, 49)                0         \n",
      "                                                                 \n",
      " dense_1 (Dense)             (None, 18)                900       \n",
      "                                                                 \n",
      "=================================================================\n",
      "Total params: 3,230,789\n",
      "Trainable params: 3,208,901\n",
      "Non-trainable params: 21,888\n",
      "_________________________________________________________________\n",
      "None\n",
      "Model: \"model\"\n",
      "_________________________________________________________________\n",
      " Layer (type)                Output Shape              Param #   \n",
      "=================================================================\n",
      " input_2 (InputLayer)        [(None, 224, 224, 3)]     0         \n",
      "                                                                 \n",
      " tf.cast (TFOpLambda)        (None, 224, 224, 3)       0         \n",
      "                                                                 \n",
      " tf.math.truediv (TFOpLambda  (None, 224, 224, 3)      0         \n",
      " )                                                               \n",
      "                                                                 \n",
      " tf.math.subtract (TFOpLambd  (None, 224, 224, 3)      0         \n",
      " a)                                                              \n",
      "                                                                 \n",
      " mobilenet_1.00_224 (Functio  (None, 7, 7, 1024)       3228864   \n",
      " nal)                                                            \n",
      "                                                                 \n",
      " conv2d (Conv2D)             (None, 7, 7, 1)           1025      \n",
      "                                                                 \n",
      " flatten (Flatten)           (None, 49)                0         \n",
      "                                                                 \n",
      " dense (Dense)               (None, 18)                900       \n",
      "                                                                 \n",
      "=================================================================\n",
      "Total params: 3,230,789\n",
      "Trainable params: 3,208,901\n",
      "Non-trainable params: 21,888\n",
      "_________________________________________________________________\n",
      "None\n"
     ]
    }
   ],
   "source": [
    "model = MobileNetTuned(pooling=False)\n",
    "model.load_model(\"mobilenet_conv.h5\")"
   ]
  },
  {
   "cell_type": "code",
   "execution_count": 7,
   "id": "d85f1526-dd19-43d9-917d-22b668f1f3c6",
   "metadata": {},
   "outputs": [
    {
     "data": {
      "application/vnd.jupyter.widget-view+json": {
       "model_id": "2ae59ab6e536495e94c41da4012900d4",
       "version_major": 2,
       "version_minor": 0
      },
      "text/plain": [
       "  0%|          | 0/998 [00:00<?, ?it/s]"
      ]
     },
     "metadata": {},
     "output_type": "display_data"
    },
    {
     "name": "stdout",
     "output_type": "stream",
     "text": [
      "MSE on test set: 59.42852371409485, 95% CI: [43.59569138276553, 79.21348252059676]\n",
      "Average IoU for glasses filter on test set: 0.13691223209851386, 95% CI: [0.12956610904211133, 0.14446022959006796]\n",
      "Average IoU for hat filter on test set: 0.6824863555441798, 95% CI: [0.6689179682421569, 0.6967425374700925]\n",
      "Average IoU for beard filter on test set: 0.6722476522288183, 95% CI: [0.6597724413081689, 0.6855835565537732]\n"
     ]
    }
   ],
   "source": [
    "evaluate_model(model)"
   ]
  },
  {
   "cell_type": "markdown",
   "id": "8c5f1239-0cb0-4825-a02b-d98ad13a9ba6",
   "metadata": {},
   "source": [
    "### Trained using custom MSE"
   ]
  },
  {
   "cell_type": "code",
   "execution_count": 4,
   "id": "ec50c4d3-7377-4c8b-96d1-d557c9b2e9d9",
   "metadata": {},
   "outputs": [
    {
     "name": "stdout",
     "output_type": "stream",
     "text": [
      "Model: \"model\"\n",
      "_________________________________________________________________\n",
      " Layer (type)                Output Shape              Param #   \n",
      "=================================================================\n",
      " input_2 (InputLayer)        [(None, 224, 224, 3)]     0         \n",
      "                                                                 \n",
      " tf.cast (TFOpLambda)        (None, 224, 224, 3)       0         \n",
      "                                                                 \n",
      " tf.math.truediv (TFOpLambda  (None, 224, 224, 3)      0         \n",
      " )                                                               \n",
      "                                                                 \n",
      " tf.math.subtract (TFOpLambd  (None, 224, 224, 3)      0         \n",
      " a)                                                              \n",
      "                                                                 \n",
      " mobilenet_1.00_224 (Functio  (None, 1024)             3228864   \n",
      " nal)                                                            \n",
      "                                                                 \n",
      " dense (Dense)               (None, 18)                18450     \n",
      "                                                                 \n",
      "=================================================================\n",
      "Total params: 3,247,314\n",
      "Trainable params: 3,225,426\n",
      "Non-trainable params: 21,888\n",
      "_________________________________________________________________\n",
      "None\n",
      "Model: \"model\"\n",
      "_________________________________________________________________\n",
      " Layer (type)                Output Shape              Param #   \n",
      "=================================================================\n",
      " input_2 (InputLayer)        [(None, 224, 224, 3)]     0         \n",
      "                                                                 \n",
      " tf.cast (TFOpLambda)        (None, 224, 224, 3)       0         \n",
      "                                                                 \n",
      " tf.math.truediv (TFOpLambda  (None, 224, 224, 3)      0         \n",
      " )                                                               \n",
      "                                                                 \n",
      " tf.math.subtract (TFOpLambd  (None, 224, 224, 3)      0         \n",
      " a)                                                              \n",
      "                                                                 \n",
      " mobilenet_1.00_224 (Functio  (None, 1024)             3228864   \n",
      " nal)                                                            \n",
      "                                                                 \n",
      " dense (Dense)               (None, 18)                18450     \n",
      "                                                                 \n",
      "=================================================================\n",
      "Total params: 3,247,314\n",
      "Trainable params: 3,225,426\n",
      "Non-trainable params: 21,888\n",
      "_________________________________________________________________\n",
      "None\n"
     ]
    }
   ],
   "source": [
    "model = MobileNetTuned()\n",
    "model.load_model(\"mobilenet_custom.h5\", custom_loss=True)"
   ]
  },
  {
   "cell_type": "code",
   "execution_count": 5,
   "id": "faf398df-3eb6-45e8-90eb-27c3ae2047a4",
   "metadata": {},
   "outputs": [
    {
     "data": {
      "application/vnd.jupyter.widget-view+json": {
       "model_id": "d700ee191e6b43549cd8e2cf3f235145",
       "version_major": 2,
       "version_minor": 0
      },
      "text/plain": [
       "  0%|          | 0/998 [00:00<?, ?it/s]"
      ]
     },
     "metadata": {},
     "output_type": "display_data"
    },
    {
     "name": "stderr",
     "output_type": "stream",
     "text": [
      "D:\\faks\\Deep learning\\Project\\dl_project\\Filters\\glasses.py:38: UserWarning: Right eye is located left to the left eye. Placing of the filter unsuccessful.\n",
      "  warnings.warn(\"Right eye is located left to the left eye. Placing of the filter unsuccessful.\")\n",
      "D:\\faks\\Deep learning\\Project\\dl_project\\Filters\\hat.py:40: UserWarning: Right ear is located left of the left ear. Placing of the filter unsuccessful.\n",
      "  warnings.warn(\"Right ear is located left of the left ear. Placing of the filter unsuccessful.\")\n",
      "D:\\faks\\Deep learning\\Project\\dl_project\\Filters\\beard.py:41: UserWarning: Right ear is located left to the left ear. PLacing of the filter unsuccessful.\n",
      "  warnings.warn(\"Right ear is located left to the left ear. PLacing of the filter unsuccessful.\")\n"
     ]
    },
    {
     "name": "stdout",
     "output_type": "stream",
     "text": [
      "MSE on test set: 46.77042974838566, 95% CI: [31.583166332665332, 66.22923625027832]\n",
      "Average IoU for glasses filter on test set: 0.17038754065561798, 95% CI: [0.1620838295126825, 0.17891035368005917]\n",
      "Average IoU for hat filter on test set: 0.7161300969659689, 95% CI: [0.7020551381849107, 0.7287948342147859]\n",
      "Average IoU for beard filter on test set: 0.7185885386834898, 95% CI: [0.7071729689000632, 0.7309489150791576]\n"
     ]
    }
   ],
   "source": [
    "evaluate_model(model)"
   ]
  },
  {
   "cell_type": "markdown",
   "id": "7379a824-5d36-463e-8671-d05712525e0c",
   "metadata": {},
   "source": [
    "## MobileNetV2\n",
    "\n",
    "### Trained using regular MSE"
   ]
  },
  {
   "cell_type": "code",
   "execution_count": 7,
   "id": "095a121a-ace2-4efb-a0f5-b008e4a9aae6",
   "metadata": {},
   "outputs": [
    {
     "name": "stdout",
     "output_type": "stream",
     "text": [
      "Model: \"model_1\"\n",
      "_________________________________________________________________\n",
      " Layer (type)                Output Shape              Param #   \n",
      "=================================================================\n",
      " input_4 (InputLayer)        [(None, 224, 224, 3)]     0         \n",
      "                                                                 \n",
      " tf.cast_1 (TFOpLambda)      (None, 224, 224, 3)       0         \n",
      "                                                                 \n",
      " tf.math.truediv_1 (TFOpLamb  (None, 224, 224, 3)      0         \n",
      " da)                                                             \n",
      "                                                                 \n",
      " tf.math.subtract_1 (TFOpLam  (None, 224, 224, 3)      0         \n",
      " bda)                                                            \n",
      "                                                                 \n",
      " mobilenetv2_1.00_224 (Funct  (None, 1280)             2257984   \n",
      " ional)                                                          \n",
      "                                                                 \n",
      " dense_1 (Dense)             (None, 18)                23058     \n",
      "                                                                 \n",
      "=================================================================\n",
      "Total params: 2,281,042\n",
      "Trainable params: 2,246,930\n",
      "Non-trainable params: 34,112\n",
      "_________________________________________________________________\n",
      "None\n",
      "Model: \"model\"\n",
      "_________________________________________________________________\n",
      " Layer (type)                Output Shape              Param #   \n",
      "=================================================================\n",
      " input_2 (InputLayer)        [(None, 224, 224, 3)]     0         \n",
      "                                                                 \n",
      " tf.cast (TFOpLambda)        (None, 224, 224, 3)       0         \n",
      "                                                                 \n",
      " tf.math.truediv (TFOpLambda  (None, 224, 224, 3)      0         \n",
      " )                                                               \n",
      "                                                                 \n",
      " tf.math.subtract (TFOpLambd  (None, 224, 224, 3)      0         \n",
      " a)                                                              \n",
      "                                                                 \n",
      " mobilenetv2_1.00_224 (Funct  (None, 1280)             2257984   \n",
      " ional)                                                          \n",
      "                                                                 \n",
      " dense (Dense)               (None, 18)                23058     \n",
      "                                                                 \n",
      "=================================================================\n",
      "Total params: 2,281,042\n",
      "Trainable params: 2,246,930\n",
      "Non-trainable params: 34,112\n",
      "_________________________________________________________________\n",
      "None\n"
     ]
    }
   ],
   "source": [
    "model = MobileNetV2Tuned()\n",
    "model.load_model(\"mobilenet_v2_mse.h5\")"
   ]
  },
  {
   "cell_type": "code",
   "execution_count": 8,
   "id": "49a05f1e-c017-4c4a-b634-79261d2005c5",
   "metadata": {},
   "outputs": [
    {
     "data": {
      "application/vnd.jupyter.widget-view+json": {
       "model_id": "64e550911643404d8e49b40514515b4e",
       "version_major": 2,
       "version_minor": 0
      },
      "text/plain": [
       "  0%|          | 0/998 [00:00<?, ?it/s]"
      ]
     },
     "metadata": {},
     "output_type": "display_data"
    },
    {
     "name": "stdout",
     "output_type": "stream",
     "text": [
      "MSE on test set: 46.80416388332219, 95% CI: [29.28662881318192, 67.61812513916722]\n",
      "Average IoU for glasses filter on test set: 0.18350554472516992, 95% CI: [0.17424985169420606, 0.19339024240791167]\n",
      "Average IoU for hat filter on test set: 0.7110306654738637, 95% CI: [0.6977899027759671, 0.7239345374458567]\n",
      "Average IoU for beard filter on test set: 0.7269443656077204, 95% CI: [0.7148583220519837, 0.7394011427763167]\n"
     ]
    }
   ],
   "source": [
    "evaluate_model(model)"
   ]
  },
  {
   "cell_type": "markdown",
   "id": "dd2d35e7-bedd-45c5-9e40-99703d161d9e",
   "metadata": {},
   "source": [
    "### Trained using custom MSE"
   ]
  },
  {
   "cell_type": "code",
   "execution_count": 10,
   "id": "77baaf21-3dca-452f-b8de-54c4e273af52",
   "metadata": {},
   "outputs": [
    {
     "name": "stdout",
     "output_type": "stream",
     "text": [
      "Model: \"model_3\"\n",
      "_________________________________________________________________\n",
      " Layer (type)                Output Shape              Param #   \n",
      "=================================================================\n",
      " input_8 (InputLayer)        [(None, 224, 224, 3)]     0         \n",
      "                                                                 \n",
      " tf.cast_3 (TFOpLambda)      (None, 224, 224, 3)       0         \n",
      "                                                                 \n",
      " tf.math.truediv_3 (TFOpLamb  (None, 224, 224, 3)      0         \n",
      " da)                                                             \n",
      "                                                                 \n",
      " tf.math.subtract_3 (TFOpLam  (None, 224, 224, 3)      0         \n",
      " bda)                                                            \n",
      "                                                                 \n",
      " mobilenetv2_1.00_224 (Funct  (None, 1280)             2257984   \n",
      " ional)                                                          \n",
      "                                                                 \n",
      " dense_3 (Dense)             (None, 18)                23058     \n",
      "                                                                 \n",
      "=================================================================\n",
      "Total params: 2,281,042\n",
      "Trainable params: 2,246,930\n",
      "Non-trainable params: 34,112\n",
      "_________________________________________________________________\n",
      "None\n",
      "Model: \"model\"\n",
      "_________________________________________________________________\n",
      " Layer (type)                Output Shape              Param #   \n",
      "=================================================================\n",
      " input_2 (InputLayer)        [(None, 224, 224, 3)]     0         \n",
      "                                                                 \n",
      " tf.cast (TFOpLambda)        (None, 224, 224, 3)       0         \n",
      "                                                                 \n",
      " tf.math.truediv (TFOpLambda  (None, 224, 224, 3)      0         \n",
      " )                                                               \n",
      "                                                                 \n",
      " tf.math.subtract (TFOpLambd  (None, 224, 224, 3)      0         \n",
      " a)                                                              \n",
      "                                                                 \n",
      " mobilenetv2_1.00_224 (Funct  (None, 1280)             2257984   \n",
      " ional)                                                          \n",
      "                                                                 \n",
      " dense (Dense)               (None, 18)                23058     \n",
      "                                                                 \n",
      "=================================================================\n",
      "Total params: 2,281,042\n",
      "Trainable params: 2,246,930\n",
      "Non-trainable params: 34,112\n",
      "_________________________________________________________________\n",
      "None\n"
     ]
    }
   ],
   "source": [
    "model = MobileNetV2Tuned()\n",
    "model.load_model(\"mobilenet_v2_custom.h5\", custom_loss=True)"
   ]
  },
  {
   "cell_type": "code",
   "execution_count": 11,
   "id": "9d2eeffa-f5ac-4efd-b1a1-9f436016e3eb",
   "metadata": {},
   "outputs": [
    {
     "data": {
      "application/vnd.jupyter.widget-view+json": {
       "model_id": "c59ca470e92343848df7804ec2a59a89",
       "version_major": 2,
       "version_minor": 0
      },
      "text/plain": [
       "  0%|          | 0/998 [00:00<?, ?it/s]"
      ]
     },
     "metadata": {},
     "output_type": "display_data"
    },
    {
     "name": "stdout",
     "output_type": "stream",
     "text": [
      "MSE on test set: 56.7558450233801, 95% CI: [38.0109107103095, 81.88721888220886]\n",
      "Average IoU for glasses filter on test set: 0.15723284021677073, 95% CI: [0.1482166793919309, 0.1663343685993454]\n",
      "Average IoU for hat filter on test set: 0.681165595935777, 95% CI: [0.6680139672170918, 0.6940991975256476]\n",
      "Average IoU for beard filter on test set: 0.7049192311150386, 95% CI: [0.6935870577801084, 0.7169976533844906]\n"
     ]
    }
   ],
   "source": [
    "evaluate_model(model)"
   ]
  },
  {
   "cell_type": "markdown",
   "id": "7d2568ef-8f74-460b-b229-d22bda9b8fc7",
   "metadata": {},
   "source": [
    "## ResNet"
   ]
  },
  {
   "cell_type": "code",
   "execution_count": 12,
   "id": "60062bf6-f1a3-4928-9adc-ed7fda4c35f1",
   "metadata": {},
   "outputs": [
    {
     "name": "stdout",
     "output_type": "stream",
     "text": [
      "Model: \"model_4\"\n",
      "_________________________________________________________________\n",
      " Layer (type)                Output Shape              Param #   \n",
      "=================================================================\n",
      " input_10 (InputLayer)       [(None, 224, 224, 3)]     0         \n",
      "                                                                 \n",
      " tf.cast_4 (TFOpLambda)      (None, 224, 224, 3)       0         \n",
      "                                                                 \n",
      " tf.__operators__.getitem (S  (None, 224, 224, 3)      0         \n",
      " licingOpLambda)                                                 \n",
      "                                                                 \n",
      " tf.nn.bias_add (TFOpLambda)  (None, 224, 224, 3)      0         \n",
      "                                                                 \n",
      " resnet50 (Functional)       (None, 2048)              23587712  \n",
      "                                                                 \n",
      " dense_4 (Dense)             (None, 18)                36882     \n",
      "                                                                 \n",
      "=================================================================\n",
      "Total params: 23,624,594\n",
      "Trainable params: 23,571,474\n",
      "Non-trainable params: 53,120\n",
      "_________________________________________________________________\n",
      "None\n",
      "Model: \"model\"\n",
      "_________________________________________________________________\n",
      " Layer (type)                Output Shape              Param #   \n",
      "=================================================================\n",
      " input_2 (InputLayer)        [(None, 224, 224, 3)]     0         \n",
      "                                                                 \n",
      " tf.cast (TFOpLambda)        (None, 224, 224, 3)       0         \n",
      "                                                                 \n",
      " tf.__operators__.getitem (S  (None, 224, 224, 3)      0         \n",
      " licingOpLambda)                                                 \n",
      "                                                                 \n",
      " tf.nn.bias_add (TFOpLambda)  (None, 224, 224, 3)      0         \n",
      "                                                                 \n",
      " resnet50 (Functional)       (None, 2048)              23587712  \n",
      "                                                                 \n",
      " dense (Dense)               (None, 18)                36882     \n",
      "                                                                 \n",
      "=================================================================\n",
      "Total params: 23,624,594\n",
      "Trainable params: 23,571,474\n",
      "Non-trainable params: 53,120\n",
      "_________________________________________________________________\n",
      "None\n"
     ]
    }
   ],
   "source": [
    "model = ResNetTuned()\n",
    "model.load_model(\"resnet.h5\")"
   ]
  },
  {
   "cell_type": "code",
   "execution_count": 13,
   "id": "8208bc1f-65ad-43c4-ac19-7f6eaa49535c",
   "metadata": {},
   "outputs": [
    {
     "data": {
      "application/vnd.jupyter.widget-view+json": {
       "model_id": "518d4be735ea4395a36313abaf61db8a",
       "version_major": 2,
       "version_minor": 0
      },
      "text/plain": [
       "  0%|          | 0/998 [00:00<?, ?it/s]"
      ]
     },
     "metadata": {},
     "output_type": "display_data"
    },
    {
     "name": "stdout",
     "output_type": "stream",
     "text": [
      "MSE on test set: 38.44600311734581, 95% CI: [20.84992206635493, 61.30483188599421]\n",
      "Average IoU for glasses filter on test set: 0.1966153283192146, 95% CI: [0.1870413837762483, 0.2059936337153714]\n",
      "Average IoU for hat filter on test set: 0.7428874039649773, 95% CI: [0.730350794795514, 0.7554606397706264]\n",
      "Average IoU for beard filter on test set: 0.7447226874801864, 95% CI: [0.7333440000780822, 0.7564942979478888]\n"
     ]
    }
   ],
   "source": [
    "evaluate_model(model)"
   ]
  }
 ],
 "metadata": {
  "kernelspec": {
   "display_name": "dl_project",
   "language": "python",
   "name": "dl_project"
  },
  "language_info": {
   "codemirror_mode": {
    "name": "ipython",
    "version": 3
   },
   "file_extension": ".py",
   "mimetype": "text/x-python",
   "name": "python",
   "nbconvert_exporter": "python",
   "pygments_lexer": "ipython3",
   "version": "3.10.4"
  }
 },
 "nbformat": 4,
 "nbformat_minor": 5
}
